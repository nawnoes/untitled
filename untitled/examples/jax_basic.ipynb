{
 "cells": [
  {
   "cell_type": "code",
   "execution_count": 3,
   "metadata": {},
   "outputs": [],
   "source": [
    "from flax import linen as nn\n",
    "from flax.linen import partitioning as nn_partitioning\n",
    "\n",
    "import numpy as np\n",
    "\n",
    "import jax\n",
    "jax.config.update('jax_platform_name', 'cpu')\n",
    "\n",
    "from jax import lax\n",
    "from jax import random\n",
    "from jax.ad_checkpoint import checkpoint_name\n",
    "import jax.numpy as jnp\n",
    "import os\n",
    "# os.environ[\"XLA_FLAGS\"] = '--xla_force_host_platform_device_count=2'\n",
    "jax.config.update('jax_platform_name', '')"
   ]
  },
  {
   "cell_type": "code",
   "execution_count": 4,
   "metadata": {},
   "outputs": [
    {
     "ename": "RuntimeError",
     "evalue": "Unable to initialize backend 'tpu': INVALID_ARGUMENT: Unexpected PJRT_Api size: expected 648, got 592. Check installed software versions. The framework PJRT API version is 0.12. (set JAX_PLATFORMS='' to automatically choose an available backend)",
     "output_type": "error",
     "traceback": [
      "\u001b[0;31m---------------------------------------------------------------------------\u001b[0m",
      "\u001b[0;31mXlaRuntimeError\u001b[0m                           Traceback (most recent call last)",
      "    \u001b[0;31m[... skipping hidden 1 frame]\u001b[0m\n",
      "File \u001b[0;32m/home/env/t5x/lib/python3.10/site-packages/jax/_src/xla_bridge.py:666\u001b[0m, in \u001b[0;36m_init_backend\u001b[0;34m(platform)\u001b[0m\n\u001b[1;32m    665\u001b[0m logger\u001b[39m.\u001b[39mdebug(\u001b[39m\"\u001b[39m\u001b[39mInitializing backend \u001b[39m\u001b[39m'\u001b[39m\u001b[39m%s\u001b[39;00m\u001b[39m'\u001b[39m\u001b[39m\"\u001b[39m, platform)\n\u001b[0;32m--> 666\u001b[0m backend \u001b[39m=\u001b[39m registration\u001b[39m.\u001b[39;49mfactory()\n\u001b[1;32m    667\u001b[0m \u001b[39m# TODO(skye): consider raising more descriptive errors directly from backend\u001b[39;00m\n\u001b[1;32m    668\u001b[0m \u001b[39m# factories instead of returning None.\u001b[39;00m\n",
      "File \u001b[0;32m/home/env/t5x/lib/python3.10/site-packages/jax/_src/xla_bridge.py:198\u001b[0m, in \u001b[0;36mtpu_client_timer_callback\u001b[0;34m(timer_secs)\u001b[0m\n\u001b[1;32m    197\u001b[0m \u001b[39mtry\u001b[39;00m:\n\u001b[0;32m--> 198\u001b[0m   client \u001b[39m=\u001b[39m xla_client\u001b[39m.\u001b[39;49mmake_tpu_client()\n\u001b[1;32m    199\u001b[0m \u001b[39mfinally\u001b[39;00m:\n",
      "File \u001b[0;32m/home/env/t5x/lib/python3.10/site-packages/jaxlib/xla_client.py:170\u001b[0m, in \u001b[0;36mmake_tpu_client\u001b[0;34m(use_pjrt_c_api)\u001b[0m\n\u001b[1;32m    169\u001b[0m   library_path \u001b[39m=\u001b[39m os\u001b[39m.\u001b[39mgetenv(\u001b[39m'\u001b[39m\u001b[39mTPU_LIBRARY_PATH\u001b[39m\u001b[39m'\u001b[39m, \u001b[39m'\u001b[39m\u001b[39mlibtpu.so\u001b[39m\u001b[39m'\u001b[39m)\n\u001b[0;32m--> 170\u001b[0m   load_pjrt_plugin_dynamically(\u001b[39m'\u001b[39;49m\u001b[39mtpu\u001b[39;49m\u001b[39m'\u001b[39;49m, library_path)\n\u001b[1;32m    171\u001b[0m \u001b[39mreturn\u001b[39;00m make_tfrt_tpu_c_api_client()\n",
      "File \u001b[0;32m/home/env/t5x/lib/python3.10/site-packages/jaxlib/xla_client.py:130\u001b[0m, in \u001b[0;36mload_pjrt_plugin_dynamically\u001b[0;34m(plugin_name, library_path)\u001b[0m\n\u001b[1;32m    129\u001b[0m \u001b[39mdef\u001b[39;00m \u001b[39mload_pjrt_plugin_dynamically\u001b[39m(plugin_name: \u001b[39mstr\u001b[39m, library_path: \u001b[39mstr\u001b[39m) \u001b[39m-\u001b[39m\u001b[39m>\u001b[39m \u001b[39mNone\u001b[39;00m:\n\u001b[0;32m--> 130\u001b[0m   _xla\u001b[39m.\u001b[39;49mload_pjrt_plugin(plugin_name, library_path)\n",
      "\u001b[0;31mXlaRuntimeError\u001b[0m: INVALID_ARGUMENT: Unexpected PJRT_Api size: expected 648, got 592. Check installed software versions. The framework PJRT API version is 0.12.",
      "\nDuring handling of the above exception, another exception occurred:\n",
      "\u001b[0;31mRuntimeError\u001b[0m                              Traceback (most recent call last)",
      "Cell \u001b[0;32mIn[4], line 5\u001b[0m\n\u001b[1;32m      1\u001b[0m \u001b[39m# inputs = jnp.array([\u001b[39;00m\n\u001b[1;32m      2\u001b[0m \u001b[39m#     [1,2,3,4],\u001b[39;00m\n\u001b[1;32m      3\u001b[0m \u001b[39m#     [5,6,7,8]\u001b[39;00m\n\u001b[1;32m      4\u001b[0m \u001b[39m# ])\u001b[39;00m\n\u001b[0;32m----> 5\u001b[0m x \u001b[39m=\u001b[39m jnp\u001b[39m.\u001b[39;49msquare(\u001b[39m2\u001b[39;49m)\n",
      "    \u001b[0;31m[... skipping hidden 15 frame]\u001b[0m\n",
      "File \u001b[0;32m/home/env/t5x/lib/python3.10/site-packages/jax/_src/xla_bridge.py:628\u001b[0m, in \u001b[0;36mbackends\u001b[0;34m()\u001b[0m\n\u001b[1;32m    626\u001b[0m       \u001b[39melse\u001b[39;00m:\n\u001b[1;32m    627\u001b[0m         err_msg \u001b[39m+\u001b[39m\u001b[39m=\u001b[39m \u001b[39m\"\u001b[39m\u001b[39m (you may need to uninstall the failing plugin package, or set JAX_PLATFORMS=cpu to skip this backend.)\u001b[39m\u001b[39m\"\u001b[39m\n\u001b[0;32m--> 628\u001b[0m       \u001b[39mraise\u001b[39;00m \u001b[39mRuntimeError\u001b[39;00m(err_msg)\n\u001b[1;32m    630\u001b[0m \u001b[39massert\u001b[39;00m _default_backend \u001b[39mis\u001b[39;00m \u001b[39mnot\u001b[39;00m \u001b[39mNone\u001b[39;00m\n\u001b[1;32m    631\u001b[0m \u001b[39m# We don't warn about falling back to CPU on Mac OS, because we don't\u001b[39;00m\n\u001b[1;32m    632\u001b[0m \u001b[39m# support anything else there at the moment and warning would be pointless.\u001b[39;00m\n",
      "\u001b[0;31mRuntimeError\u001b[0m: Unable to initialize backend 'tpu': INVALID_ARGUMENT: Unexpected PJRT_Api size: expected 648, got 592. Check installed software versions. The framework PJRT API version is 0.12. (set JAX_PLATFORMS='' to automatically choose an available backend)"
     ]
    }
   ],
   "source": [
    "# inputs = jnp.array([\n",
    "#     [1,2,3,4],\n",
    "#     [5,6,7,8]\n",
    "# ])\n",
    "x = jnp.square(2)\n"
   ]
  },
  {
   "cell_type": "code",
   "execution_count": 2,
   "metadata": {},
   "outputs": [
    {
     "ename": "NameError",
     "evalue": "name 'jax' is not defined",
     "output_type": "error",
     "traceback": [
      "\u001b[0;31m---------------------------------------------------------------------------\u001b[0m",
      "\u001b[0;31mNameError\u001b[0m                                 Traceback (most recent call last)",
      "Cell \u001b[0;32mIn[2], line 1\u001b[0m\n\u001b[0;32m----> 1\u001b[0m fn \u001b[39m=\u001b[39m jax\u001b[39m.\u001b[39mnn\u001b[39m.\u001b[39minitializers\u001b[39m.\u001b[39mvariance_scaling(\u001b[39m1.0\u001b[39m, \u001b[39m'\u001b[39m\u001b[39mfan_in\u001b[39m\u001b[39m'\u001b[39m, \u001b[39m'\u001b[39m\u001b[39mtruncated_normal\u001b[39m\u001b[39m'\u001b[39m, in_axis, out_axis)\n",
      "\u001b[0;31mNameError\u001b[0m: name 'jax' is not defined"
     ]
    }
   ],
   "source": [
    "fn = jax.nn.initializers.variance_scaling(1.0, 'fan_in', 'truncated_normal', in_axis, out_axis)"
   ]
  },
  {
   "cell_type": "code",
   "execution_count": 6,
   "metadata": {},
   "outputs": [
    {
     "data": {
      "text/plain": [
       "array([4, 5, 6, 7])"
      ]
     },
     "execution_count": 6,
     "metadata": {},
     "output_type": "execute_result"
    }
   ],
   "source": [
    "np.arange(4, 4+4)"
   ]
  },
  {
   "cell_type": "code",
   "execution_count": null,
   "metadata": {},
   "outputs": [],
   "source": []
  }
 ],
 "metadata": {
  "kernelspec": {
   "display_name": "t5x",
   "language": "python",
   "name": "python3"
  },
  "language_info": {
   "codemirror_mode": {
    "name": "ipython",
    "version": 3
   },
   "file_extension": ".py",
   "mimetype": "text/x-python",
   "name": "python",
   "nbconvert_exporter": "python",
   "pygments_lexer": "ipython3",
   "version": "3.10.11"
  },
  "orig_nbformat": 4
 },
 "nbformat": 4,
 "nbformat_minor": 2
}
